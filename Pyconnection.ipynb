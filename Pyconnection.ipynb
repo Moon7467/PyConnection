{
 "cells": [
  {
   "cell_type": "markdown",
   "metadata": {},
   "source": [
    "#### 문제 검색하기\n",
    "boj.kr/문제번호\n",
    "***\n",
    "#### 문제 채점하기\n",
    "1. 제출 탭 클릭\n",
    "\n",
    "![제출1.png](img/2024-03-11-20-35-40.png)\n",
    "\n",
    "2. 언어 Python3로 변경, 코드 붙여넣기 후 제출\n",
    "\n",
    "![제출2.png](img/2024-03-11-20-36-21.png)\n"
   ]
  },
  {
   "cell_type": "code",
   "execution_count": null,
   "metadata": {},
   "outputs": [],
   "source": []
  }
 ],
 "metadata": {
  "kernelspec": {
   "display_name": "base",
   "language": "python",
   "name": "python3"
  },
  "language_info": {
   "codemirror_mode": {
    "name": "ipython",
    "version": 3
   },
   "file_extension": ".py",
   "mimetype": "text/x-python",
   "name": "python",
   "nbconvert_exporter": "python",
   "pygments_lexer": "ipython3",
   "version": "3.8.0"
  }
 },
 "nbformat": 4,
 "nbformat_minor": 2
}
